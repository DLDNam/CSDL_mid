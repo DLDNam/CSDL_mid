{
 "cells": [
  {
   "cell_type": "code",
   "execution_count": 1,
   "metadata": {},
   "outputs": [],
   "source": [
    "import pandas as pd\n",
    "import pyodbc"
   ]
  },
  {
   "cell_type": "code",
   "execution_count": 2,
   "metadata": {},
   "outputs": [],
   "source": [
    "# connect\n",
    "conn_str = 'DRIVER={ODBC Driver 17 for SQL Server};\\\n",
    "            SERVER=MSI\\DUCNAM;\\\n",
    "            DATABASE=my_database;\\\n",
    "            UID=dn;\\\n",
    "            PWD=123456'"
   ]
  },
  {
   "cell_type": "code",
   "execution_count": 3,
   "metadata": {},
   "outputs": [],
   "source": [
    "conn = pyodbc.connect(conn_str)"
   ]
  },
  {
   "cell_type": "code",
   "execution_count": 4,
   "metadata": {},
   "outputs": [],
   "source": [
    "cursor = conn.cursor()\n",
    "cursor.execute(\"select * From tblStudent\")\n",
    "data = cursor.fetchall()\n"
   ]
  },
  {
   "cell_type": "code",
   "execution_count": 5,
   "metadata": {},
   "outputs": [
    {
     "name": "stdout",
     "output_type": "stream",
     "text": [
      "(6, 'Jessica', True, datetime.datetime(2005, 11, 30, 0, 0))\n",
      "(7, 'Daniel', False, datetime.datetime(2006, 2, 5, 0, 0))\n",
      "(8, 'Olivia', True, datetime.datetime(2007, 4, 10, 0, 0))\n",
      "(9, 'Matthew', True, datetime.datetime(2008, 6, 15, 0, 0))\n",
      "(10, 'Sophia', True, datetime.datetime(2009, 8, 20, 0, 0))\n",
      "(11, 'Thuy Huyen', False, datetime.datetime(2004, 9, 25, 0, 0))\n",
      "(12, 'Minh Trinh', False, datetime.datetime(2003, 10, 1, 0, 0))\n",
      "(13, 'Le Thi Thanh Hang', True, datetime.datetime(2003, 3, 29, 0, 0))\n",
      "(14, 'Dinh Le Duc Nam', True, datetime.datetime(2003, 10, 18, 0, 0))\n"
     ]
    }
   ],
   "source": [
    "for row in data:\n",
    "    print(row)"
   ]
  },
  {
   "cell_type": "code",
   "execution_count": 6,
   "metadata": {},
   "outputs": [
    {
     "name": "stdout",
     "output_type": "stream",
     "text": [
      "('StudentID', <class 'int'>, None, 10, 10, 0, False)\n",
      "('fname', <class 'str'>, None, 25, 25, 0, True)\n",
      "('sex', <class 'bool'>, None, 1, 1, 0, True)\n",
      "('dob', <class 'datetime.datetime'>, None, 16, 16, 0, True)\n",
      "['StudentID', 'fname', 'sex', 'dob']\n"
     ]
    }
   ],
   "source": [
    "for row in cursor.description:\n",
    "    print(row)\n",
    "header = [column[0] for column in cursor.description]\n",
    "print(header)"
   ]
  },
  {
   "cell_type": "code",
   "execution_count": 7,
   "metadata": {},
   "outputs": [
    {
     "data": {
      "text/html": [
       "<div>\n",
       "<style scoped>\n",
       "    .dataframe tbody tr th:only-of-type {\n",
       "        vertical-align: middle;\n",
       "    }\n",
       "\n",
       "    .dataframe tbody tr th {\n",
       "        vertical-align: top;\n",
       "    }\n",
       "\n",
       "    .dataframe thead th {\n",
       "        text-align: right;\n",
       "    }\n",
       "</style>\n",
       "<table border=\"1\" class=\"dataframe\">\n",
       "  <thead>\n",
       "    <tr style=\"text-align: right;\">\n",
       "      <th></th>\n",
       "      <th>StudentID</th>\n",
       "      <th>fname</th>\n",
       "      <th>sex</th>\n",
       "      <th>dob</th>\n",
       "    </tr>\n",
       "  </thead>\n",
       "  <tbody>\n",
       "    <tr>\n",
       "      <th>0</th>\n",
       "      <td>15</td>\n",
       "      <td>Dinh Le Duc Nam</td>\n",
       "      <td>1</td>\n",
       "      <td>2003-10-18</td>\n",
       "    </tr>\n",
       "    <tr>\n",
       "      <th>1</th>\n",
       "      <td>16</td>\n",
       "      <td>Le Thuy Huyen</td>\n",
       "      <td>1</td>\n",
       "      <td>2003-2-3</td>\n",
       "    </tr>\n",
       "    <tr>\n",
       "      <th>2</th>\n",
       "      <td>17</td>\n",
       "      <td>Tran Binh Nguyen</td>\n",
       "      <td>1</td>\n",
       "      <td>2003-10-19</td>\n",
       "    </tr>\n",
       "    <tr>\n",
       "      <th>3</th>\n",
       "      <td>18</td>\n",
       "      <td>Nguyen Minh Duc</td>\n",
       "      <td>0</td>\n",
       "      <td>2003-10-10</td>\n",
       "    </tr>\n",
       "  </tbody>\n",
       "</table>\n",
       "</div>"
      ],
      "text/plain": [
       "   StudentID             fname  sex         dob\n",
       "0         15   Dinh Le Duc Nam    1  2003-10-18\n",
       "1         16     Le Thuy Huyen    1    2003-2-3\n",
       "2         17  Tran Binh Nguyen    1  2003-10-19\n",
       "3         18   Nguyen Minh Duc    0  2003-10-10"
      ]
     },
     "execution_count": 7,
     "metadata": {},
     "output_type": "execute_result"
    }
   ],
   "source": [
    "# Add data to DataFrame\n",
    "new_data = {'StudentID':[15,16,17,18],\n",
    "            'fname':['Dinh Le Duc Nam', 'Le Thuy Huyen','Tran Binh Nguyen','Nguyen Minh Duc'],\n",
    "            'sex':[1,1,1,0],\n",
    "            'dob':['2003-10-18','2003-2-3','2003-10-19','2003-10-10']}\n",
    "new_df = pd.DataFrame(new_data)\n",
    "new_df"
   ]
  },
  {
   "cell_type": "code",
   "execution_count": 8,
   "metadata": {},
   "outputs": [],
   "source": [
    "\n",
    "cursor = conn.cursor()\n",
    "\n",
    "for index, row in new_df.iterrows():\n",
    "    values = (row['StudentID'], row['fname'],row['sex'],row['dob'])\n",
    "    cursor.execute(\"INSERT INTO TblStudent (StudentID,fname,sex,dob) VALUES (?,?,?,?)\", values)\n",
    "    conn.commit()"
   ]
  },
  {
   "cell_type": "code",
   "execution_count": 9,
   "metadata": {},
   "outputs": [],
   "source": [
    "# Update and Delete\n",
    "    \n",
    "cursor.execute(\"Delete TblStudent\\\n",
    "                where StudentID >= 15\")\n",
    "cursor.execute(\"Update TblStudent\\\n",
    "                Set fname = 'Thuy Huyen'\\\n",
    "                where StudentID = 11\")\n",
    "cursor.commit()"
   ]
  },
  {
   "cell_type": "code",
   "execution_count": 10,
   "metadata": {},
   "outputs": [
    {
     "name": "stderr",
     "output_type": "stream",
     "text": [
      "C:\\Users\\FPT SHOP\\AppData\\Local\\Temp\\ipykernel_4728\\763232228.py:3: UserWarning: pandas only supports SQLAlchemy connectable (engine/connection) or database string URI or sqlite3 DBAPI2 connection. Other DBAPI2 objects are not tested. Please consider using SQLAlchemy.\n",
      "  df = pd.read_sql(query,conn)\n"
     ]
    }
   ],
   "source": [
    "query = 'Select * From TblCourse'\n",
    "conn = pyodbc.connect(conn_str)\n",
    "df = pd.read_sql(query,conn)"
   ]
  },
  {
   "cell_type": "code",
   "execution_count": 11,
   "metadata": {},
   "outputs": [
    {
     "data": {
      "text/html": [
       "<div>\n",
       "<style scoped>\n",
       "    .dataframe tbody tr th:only-of-type {\n",
       "        vertical-align: middle;\n",
       "    }\n",
       "\n",
       "    .dataframe tbody tr th {\n",
       "        vertical-align: top;\n",
       "    }\n",
       "\n",
       "    .dataframe thead th {\n",
       "        text-align: right;\n",
       "    }\n",
       "</style>\n",
       "<table border=\"1\" class=\"dataframe\">\n",
       "  <thead>\n",
       "    <tr style=\"text-align: right;\">\n",
       "      <th></th>\n",
       "      <th>CourseID</th>\n",
       "      <th>CourseName</th>\n",
       "    </tr>\n",
       "  </thead>\n",
       "  <tbody>\n",
       "    <tr>\n",
       "      <th>0</th>\n",
       "      <td>1</td>\n",
       "      <td>Mathematics</td>\n",
       "    </tr>\n",
       "    <tr>\n",
       "      <th>1</th>\n",
       "      <td>2</td>\n",
       "      <td>English</td>\n",
       "    </tr>\n",
       "    <tr>\n",
       "      <th>2</th>\n",
       "      <td>3</td>\n",
       "      <td>History</td>\n",
       "    </tr>\n",
       "    <tr>\n",
       "      <th>3</th>\n",
       "      <td>4</td>\n",
       "      <td>Science</td>\n",
       "    </tr>\n",
       "    <tr>\n",
       "      <th>4</th>\n",
       "      <td>5</td>\n",
       "      <td>Computer Science</td>\n",
       "    </tr>\n",
       "    <tr>\n",
       "      <th>5</th>\n",
       "      <td>6</td>\n",
       "      <td>Art</td>\n",
       "    </tr>\n",
       "    <tr>\n",
       "      <th>6</th>\n",
       "      <td>7</td>\n",
       "      <td>Physics</td>\n",
       "    </tr>\n",
       "    <tr>\n",
       "      <th>7</th>\n",
       "      <td>8</td>\n",
       "      <td>Chemistry</td>\n",
       "    </tr>\n",
       "    <tr>\n",
       "      <th>8</th>\n",
       "      <td>9</td>\n",
       "      <td>Biology</td>\n",
       "    </tr>\n",
       "    <tr>\n",
       "      <th>9</th>\n",
       "      <td>10</td>\n",
       "      <td>Geography</td>\n",
       "    </tr>\n",
       "  </tbody>\n",
       "</table>\n",
       "</div>"
      ],
      "text/plain": [
       "   CourseID        CourseName\n",
       "0         1       Mathematics\n",
       "1         2           English\n",
       "2         3           History\n",
       "3         4           Science\n",
       "4         5  Computer Science\n",
       "5         6               Art\n",
       "6         7           Physics\n",
       "7         8         Chemistry\n",
       "8         9           Biology\n",
       "9        10         Geography"
      ]
     },
     "execution_count": 11,
     "metadata": {},
     "output_type": "execute_result"
    }
   ],
   "source": [
    "df"
   ]
  },
  {
   "cell_type": "code",
   "execution_count": 12,
   "metadata": {},
   "outputs": [],
   "source": [
    "conn.close()"
   ]
  }
 ],
 "metadata": {
  "kernelspec": {
   "display_name": "Python 3",
   "language": "python",
   "name": "python3"
  },
  "language_info": {
   "codemirror_mode": {
    "name": "ipython",
    "version": 3
   },
   "file_extension": ".py",
   "mimetype": "text/x-python",
   "name": "python",
   "nbconvert_exporter": "python",
   "pygments_lexer": "ipython3",
   "version": "3.10.1"
  }
 },
 "nbformat": 4,
 "nbformat_minor": 2
}

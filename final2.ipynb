{
 "cells": [
  {
   "cell_type": "code",
   "execution_count": 39,
   "metadata": {},
   "outputs": [],
   "source": [
    "import pandas as pd\n",
    "import pyodbc"
   ]
  },
  {
   "cell_type": "code",
   "execution_count": 40,
   "metadata": {},
   "outputs": [],
   "source": [
    "conn_str = 'DRIVER={ODBC Driver 17 for SQL Server};\\\n",
    "            SERVER=MSI\\DUCNAM;\\\n",
    "            DATABASE=my_database;\\\n",
    "            UID=dn;\\\n",
    "            PWD=123456'"
   ]
  },
  {
   "cell_type": "code",
   "execution_count": 41,
   "metadata": {},
   "outputs": [],
   "source": [
    "conn = pyodbc.connect(conn_str)"
   ]
  },
  {
   "cell_type": "code",
   "execution_count": 42,
   "metadata": {},
   "outputs": [
    {
     "data": {
      "text/html": [
       "<div>\n",
       "<style scoped>\n",
       "    .dataframe tbody tr th:only-of-type {\n",
       "        vertical-align: middle;\n",
       "    }\n",
       "\n",
       "    .dataframe tbody tr th {\n",
       "        vertical-align: top;\n",
       "    }\n",
       "\n",
       "    .dataframe thead th {\n",
       "        text-align: right;\n",
       "    }\n",
       "</style>\n",
       "<table border=\"1\" class=\"dataframe\">\n",
       "  <thead>\n",
       "    <tr style=\"text-align: right;\">\n",
       "      <th></th>\n",
       "      <th>StudentID</th>\n",
       "      <th>fname</th>\n",
       "      <th>sex</th>\n",
       "      <th>dob</th>\n",
       "    </tr>\n",
       "  </thead>\n",
       "  <tbody>\n",
       "    <tr>\n",
       "      <th>0</th>\n",
       "      <td>15</td>\n",
       "      <td>Dinh Le Duc Nam</td>\n",
       "      <td>1</td>\n",
       "      <td>2003-10-18</td>\n",
       "    </tr>\n",
       "    <tr>\n",
       "      <th>1</th>\n",
       "      <td>16</td>\n",
       "      <td>Le Thuy Huyen</td>\n",
       "      <td>1</td>\n",
       "      <td>2003-2-3</td>\n",
       "    </tr>\n",
       "    <tr>\n",
       "      <th>2</th>\n",
       "      <td>17</td>\n",
       "      <td>Tran Binh Nguyen</td>\n",
       "      <td>1</td>\n",
       "      <td>2003-10-19</td>\n",
       "    </tr>\n",
       "    <tr>\n",
       "      <th>3</th>\n",
       "      <td>18</td>\n",
       "      <td>Nguyen Minh Duc</td>\n",
       "      <td>0</td>\n",
       "      <td>2003-10-10</td>\n",
       "    </tr>\n",
       "  </tbody>\n",
       "</table>\n",
       "</div>"
      ],
      "text/plain": [
       "   StudentID             fname  sex         dob\n",
       "0         15   Dinh Le Duc Nam    1  2003-10-18\n",
       "1         16     Le Thuy Huyen    1    2003-2-3\n",
       "2         17  Tran Binh Nguyen    1  2003-10-19\n",
       "3         18   Nguyen Minh Duc    0  2003-10-10"
      ]
     },
     "execution_count": 42,
     "metadata": {},
     "output_type": "execute_result"
    }
   ],
   "source": [
    "# Add data to DataFrame\n",
    "new_data = {'StudentID':[15,16,17,18],\n",
    "            'fname':['Dinh Le Duc Nam', 'Le Thuy Huyen','Tran Binh Nguyen','Nguyen Minh Duc'],\n",
    "            'sex':[1,1,1,0],\n",
    "            'dob':['2003-10-18','2003-2-3','2003-10-19','2003-10-10']}\n",
    "new_df = pd.DataFrame(new_data)\n",
    "new_df"
   ]
  },
  {
   "cell_type": "code",
   "execution_count": 43,
   "metadata": {},
   "outputs": [],
   "source": [
    "\n",
    "cursor = conn.cursor()\n",
    "\n",
    "for index, row in new_df.iterrows():\n",
    "    values = (row['StudentID'], row['fname'],row['sex'],row['dob'])\n",
    "    cursor.execute(\"INSERT INTO TblStudent (StudentID,fname,sex,dob) VALUES (?,?,?,?)\", values)\n",
    "    conn.commit()"
   ]
  },
  {
   "cell_type": "code",
   "execution_count": 44,
   "metadata": {},
   "outputs": [],
   "source": [
    "# Update and Delete\n",
    "    \n",
    "cursor.execute(\"Delete TblStudent\\\n",
    "                where StudentID >= 15\")\n",
    "cursor.execute(\"Update TblStudent\\\n",
    "                Set fname = 'Thuy Huyen'\\\n",
    "                where StudentID = 11\")\n",
    "cursor.commit()"
   ]
  },
  {
   "cell_type": "code",
   "execution_count": 45,
   "metadata": {},
   "outputs": [
    {
     "name": "stdout",
     "output_type": "stream",
     "text": [
      "    StudentID       fname    sex        dob\n",
      "0           1      DucNam   True 2000-01-01\n",
      "1           2       Sarah   True 2001-05-10\n",
      "2           3     Michael   True 2002-03-15\n",
      "3           4       Emily   True 2003-07-20\n",
      "4           5       David  False 2004-09-25\n",
      "5           6     Jessica   True 2005-11-30\n",
      "6           7      Daniel  False 2006-02-05\n",
      "7           8      Olivia   True 2007-04-10\n",
      "8           9     Matthew   True 2008-06-15\n",
      "9          10      Sophia   True 2009-08-20\n",
      "10         11  Thuy Huyen  False 2004-09-25\n",
      "11         12  Minh Trinh  False 2003-10-01\n",
      "12         13    Dung Dam   True 2003-03-29\n"
     ]
    },
    {
     "name": "stderr",
     "output_type": "stream",
     "text": [
      "C:\\Users\\FPT SHOP\\AppData\\Local\\Temp\\ipykernel_23424\\1675294783.py:1: UserWarning: pandas only supports SQLAlchemy connectable (engine/connection) or database string URI or sqlite3 DBAPI2 connection. Other DBAPI2 objects are not tested. Please consider using SQLAlchemy.\n",
      "  updated_df = pd.read_sql(\"SELECT * FROM TblStudent\", conn)\n"
     ]
    }
   ],
   "source": [
    "\n",
    "\n",
    "updated_df = pd.read_sql(\"SELECT * FROM TblStudent\", conn)\n",
    "print(updated_df)"
   ]
  },
  {
   "cell_type": "code",
   "execution_count": 46,
   "metadata": {},
   "outputs": [
    {
     "name": "stdout",
     "output_type": "stream",
     "text": [
      "    StudentID       fname    sex        dob\n",
      "0           1      DucNam   True 2000-01-01\n",
      "1           2       Sarah   True 2001-05-10\n",
      "2           3     Michael   True 2002-03-15\n",
      "3           4       Emily   True 2003-07-20\n",
      "4           5       David  False 2004-09-25\n",
      "5           6     Jessica   True 2005-11-30\n",
      "6           7      Daniel  False 2006-02-05\n",
      "7           8      Olivia   True 2007-04-10\n",
      "8           9     Matthew   True 2008-06-15\n",
      "9          10      Sophia   True 2009-08-20\n",
      "10         11  Thuy Huyen  False 2004-09-25\n",
      "11         12  Minh Trinh  False 2003-10-01\n",
      "12         13    Dung Dam   True 2003-03-29\n"
     ]
    },
    {
     "name": "stderr",
     "output_type": "stream",
     "text": [
      "C:\\Users\\FPT SHOP\\AppData\\Local\\Temp\\ipykernel_23424\\2379897551.py:3: UserWarning: pandas only supports SQLAlchemy connectable (engine/connection) or database string URI or sqlite3 DBAPI2 connection. Other DBAPI2 objects are not tested. Please consider using SQLAlchemy.\n",
      "  df = pd.read_sql(query,conn)\n"
     ]
    }
   ],
   "source": [
    "query = 'Select * From TblStudent'\n",
    "conn = pyodbc.connect(conn_str)\n",
    "df = pd.read_sql(query,conn)\n",
    "print(df)"
   ]
  },
  {
   "cell_type": "code",
   "execution_count": 47,
   "metadata": {},
   "outputs": [],
   "source": [
    "conn.close()"
   ]
  }
 ],
 "metadata": {
  "kernelspec": {
   "display_name": "Python 3",
   "language": "python",
   "name": "python3"
  },
  "language_info": {
   "codemirror_mode": {
    "name": "ipython",
    "version": 3
   },
   "file_extension": ".py",
   "mimetype": "text/x-python",
   "name": "python",
   "nbconvert_exporter": "python",
   "pygments_lexer": "ipython3",
   "version": "3.10.1"
  }
 },
 "nbformat": 4,
 "nbformat_minor": 2
}

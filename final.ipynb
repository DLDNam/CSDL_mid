{
 "cells": [
  {
   "cell_type": "code",
   "execution_count": 24,
   "metadata": {},
   "outputs": [],
   "source": [
    "import pyodbc \n",
    "import pandas as  pandas \n"
   ]
  },
  {
   "cell_type": "code",
   "execution_count": 25,
   "metadata": {},
   "outputs": [],
   "source": [
    "# Kết nối tới cơ sở dữ liệu\n",
    "conn_str = 'DRIVER={ODBC Driver 17 for SQL Server};\\\n",
    "            SERVER=MSI\\DUCNAM;\\\n",
    "            DATABASE=my_database;\\\n",
    "            UID=dn;\\\n",
    "            PWD=123456'\n",
    "conn = pyodbc.connect(conn_str)"
   ]
  },
  {
   "cell_type": "code",
   "execution_count": 26,
   "metadata": {},
   "outputs": [],
   "source": [
    "cursor = conn.cursor() \n",
    "cursor.execute(\"Select * FROM TblStudent\")\n",
    "data = cursor.fetchall()"
   ]
  },
  {
   "cell_type": "code",
   "execution_count": 27,
   "metadata": {},
   "outputs": [],
   "source": [
    "Data = pandas.DataFrame(data)"
   ]
  },
  {
   "cell_type": "code",
   "execution_count": 28,
   "metadata": {},
   "outputs": [
    {
     "data": {
      "text/plain": [
       "[(1, 'DucNam', True, datetime.datetime(2000, 1, 1, 0, 0)),\n",
       " (2, 'Sarah', True, datetime.datetime(2001, 5, 10, 0, 0)),\n",
       " (3, 'Michael', True, datetime.datetime(2002, 3, 15, 0, 0)),\n",
       " (4, 'Emily', True, datetime.datetime(2003, 7, 20, 0, 0)),\n",
       " (5, 'David', False, datetime.datetime(2004, 9, 25, 0, 0)),\n",
       " (6, 'Jessica', True, datetime.datetime(2005, 11, 30, 0, 0)),\n",
       " (7, 'Daniel', False, datetime.datetime(2006, 2, 5, 0, 0)),\n",
       " (8, 'Olivia', True, datetime.datetime(2007, 4, 10, 0, 0)),\n",
       " (9, 'Matthew', True, datetime.datetime(2008, 6, 15, 0, 0)),\n",
       " (10, 'Sophia', True, datetime.datetime(2009, 8, 20, 0, 0)),\n",
       " (11, 'HaiYen', False, datetime.datetime(2004, 9, 25, 0, 0)),\n",
       " (12, 'Minh Trinh', False, datetime.datetime(2003, 10, 1, 0, 0)),\n",
       " (13, 'Dam Giang', True, datetime.datetime(2003, 3, 29, 0, 0)),\n",
       " (14, 'Hien', True, datetime.datetime(2003, 10, 1, 0, 0))]"
      ]
     },
     "execution_count": 28,
     "metadata": {},
     "output_type": "execute_result"
    }
   ],
   "source": [
    "data"
   ]
  },
  {
   "cell_type": "code",
   "execution_count": 29,
   "metadata": {},
   "outputs": [
    {
     "ename": "IntegrityError",
     "evalue": "('23000', \"[23000] [Microsoft][ODBC Driver 17 for SQL Server][SQL Server]Violation of PRIMARY KEY constraint 'PK_TblStudent_StudentID'. Cannot insert duplicate key in object 'dbo.TblStudent'. The duplicate key value is (13). (2627) (SQLExecDirectW); [23000] [Microsoft][ODBC Driver 17 for SQL Server][SQL Server]The statement has been terminated. (3621)\")",
     "output_type": "error",
     "traceback": [
      "\u001b[1;31m---------------------------------------------------------------------------\u001b[0m",
      "\u001b[1;31mIntegrityError\u001b[0m                            Traceback (most recent call last)",
      "\u001b[1;32md:\\HKI 2023-2024\\Database\\Pyodbc_test\\final.ipynb Cell 6\u001b[0m line \u001b[0;36m1\n\u001b[1;32m----> <a href='vscode-notebook-cell:/d%3A/HKI%202023-2024/Database/Pyodbc_test/final.ipynb#W4sZmlsZQ%3D%3D?line=0'>1</a>\u001b[0m cursor\u001b[39m.\u001b[39;49mexecute(\u001b[39m\"\u001b[39;49m\u001b[39minsert TblStudent values (13,\u001b[39;49m\u001b[39m'\u001b[39;49m\u001b[39mDam Giang\u001b[39;49m\u001b[39m'\u001b[39;49m\u001b[39m, 1,\u001b[39;49m\u001b[39m'\u001b[39;49m\u001b[39m2003-3-29\u001b[39;49m\u001b[39m'\u001b[39;49m\u001b[39m)\u001b[39;49m\u001b[39m\"\u001b[39;49m )\n",
      "\u001b[1;31mIntegrityError\u001b[0m: ('23000', \"[23000] [Microsoft][ODBC Driver 17 for SQL Server][SQL Server]Violation of PRIMARY KEY constraint 'PK_TblStudent_StudentID'. Cannot insert duplicate key in object 'dbo.TblStudent'. The duplicate key value is (13). (2627) (SQLExecDirectW); [23000] [Microsoft][ODBC Driver 17 for SQL Server][SQL Server]The statement has been terminated. (3621)\")"
     ]
    }
   ],
   "source": [
    "cursor.execute(\"insert TblStudent values (13,'Dam Giang', 1,'2003-3-29')\" )\n"
   ]
  },
  {
   "cell_type": "code",
   "execution_count": 30,
   "metadata": {},
   "outputs": [
    {
     "data": {
      "text/plain": [
       "<pyodbc.Cursor at 0x22beb829db0>"
      ]
     },
     "execution_count": 30,
     "metadata": {},
     "output_type": "execute_result"
    }
   ],
   "source": [
    "cursor.execute(\"Delete from TblStudent Where StudentID = 14 \")"
   ]
  },
  {
   "cell_type": "code",
   "execution_count": 31,
   "metadata": {},
   "outputs": [],
   "source": [
    "conn.commit()\n",
    "conn.close()"
   ]
  },
  {
   "cell_type": "code",
   "execution_count": null,
   "metadata": {},
   "outputs": [
    {
     "name": "stdout",
     "output_type": "stream",
     "text": [
      "[(1, 'DucNam', True, datetime.datetime(2000, 1, 1, 0, 0)), (2, 'Sarah', True, datetime.datetime(2001, 5, 10, 0, 0)), (3, 'Michael', True, datetime.datetime(2002, 3, 15, 0, 0)), (4, 'Emily', True, datetime.datetime(2003, 7, 20, 0, 0)), (5, 'David', False, datetime.datetime(2004, 9, 25, 0, 0)), (6, 'Jessica', True, datetime.datetime(2005, 11, 30, 0, 0)), (7, 'Daniel', False, datetime.datetime(2006, 2, 5, 0, 0)), (8, 'Olivia', True, datetime.datetime(2007, 4, 10, 0, 0)), (9, 'Matthew', True, datetime.datetime(2008, 6, 15, 0, 0)), (10, 'Sophia', True, datetime.datetime(2009, 8, 20, 0, 0)), (11, 'HaiYen', False, datetime.datetime(2004, 9, 25, 0, 0)), (12, 'Minh Trinh', False, datetime.datetime(2003, 10, 1, 0, 0)), (14, 'Hien', True, datetime.datetime(2003, 10, 1, 0, 0))]\n"
     ]
    }
   ],
   "source": [
    "print(data)"
   ]
  }
 ],
 "metadata": {
  "kernelspec": {
   "display_name": "Python 3",
   "language": "python",
   "name": "python3"
  },
  "language_info": {
   "codemirror_mode": {
    "name": "ipython",
    "version": 3
   },
   "file_extension": ".py",
   "mimetype": "text/x-python",
   "name": "python",
   "nbconvert_exporter": "python",
   "pygments_lexer": "ipython3",
   "version": "3.10.1"
  }
 },
 "nbformat": 4,
 "nbformat_minor": 2
}
